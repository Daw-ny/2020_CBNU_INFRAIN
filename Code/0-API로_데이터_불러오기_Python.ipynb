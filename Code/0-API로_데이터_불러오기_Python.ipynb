{
 "cells": [
  {
   "cell_type": "code",
   "execution_count": 1,
   "metadata": {},
   "outputs": [],
   "source": [
    "from geoband.API import *"
   ]
  },
  {
   "cell_type": "code",
   "execution_count": 2,
   "metadata": {},
   "outputs": [],
   "source": [
    "import folium\n",
    "import json\n",
    "import geopandas as gpd"
   ]
  },
  {
   "cell_type": "code",
   "execution_count": 3,
   "metadata": {},
   "outputs": [],
   "source": [
    "GetCompasData('SBJ_2009_001', '10', '10.광양시_상세도로망_LV6.geojson')"
   ]
  },
  {
   "cell_type": "code",
   "execution_count": 4,
   "metadata": {},
   "outputs": [],
   "source": [
    "GetCompasData('SBJ_2009_001', '11', '11.광양시_평일_일별_시간대별__추정교통량_LV6.csv')"
   ]
  },
  {
   "cell_type": "code",
   "execution_count": 5,
   "metadata": {},
   "outputs": [],
   "source": [
    "GetCompasData('SBJ_2009_001', '12', '12.광양시_평일_전일_혼잡빈도강도_LV6.csv')"
   ]
  },
  {
   "cell_type": "code",
   "execution_count": 6,
   "metadata": {},
   "outputs": [],
   "source": [
    "GetCompasData('SBJ_2009_001', '13', '13.광양시_평일_전일_혼잡시간강도_LV6.csv')"
   ]
  },
  {
   "cell_type": "code",
   "execution_count": 7,
   "metadata": {},
   "outputs": [],
   "source": [
    "GetCompasData('SBJ_2009_001', '1', '01.광양시_충전소설치현황.csv')"
   ]
  },
  {
   "cell_type": "code",
   "execution_count": 8,
   "metadata": {},
   "outputs": [],
   "source": [
    "GetCompasData('SBJ_2009_001', '2', '02.광양시_주차장_공간정보.csv')"
   ]
  },
  {
   "cell_type": "code",
   "execution_count": 9,
   "metadata": {},
   "outputs": [],
   "source": [
    "GetCompasData('SBJ_2009_001', '4', '04.광양시_대중집합시설_생활체육시설.csv')"
   ]
  },
  {
   "cell_type": "code",
   "execution_count": 10,
   "metadata": {},
   "outputs": [],
   "source": [
    "GetCompasData('SBJ_2009_001', '5', '05.광양시_대중집합시설_야영장.csv')"
   ]
  },
  {
   "cell_type": "code",
   "execution_count": 11,
   "metadata": {},
   "outputs": [],
   "source": [
    "GetCompasData('SBJ_2009_001', '6', '06.광양시_전기차보급현황(연도별,읍면동별).csv')"
   ]
  },
  {
   "cell_type": "code",
   "execution_count": 12,
   "metadata": {},
   "outputs": [],
   "source": [
    "GetCompasData('SBJ_2009_001', '7', '07.광양시_법정동별_인구현황(읍면동리).csv')"
   ]
  },
  {
   "cell_type": "code",
   "execution_count": 13,
   "metadata": {},
   "outputs": [],
   "source": [
    "GetCompasData('SBJ_2009_001', '8', '08.광양시_격자별인구현황(100X100).geojson')"
   ]
  },
  {
   "cell_type": "code",
   "execution_count": 14,
   "metadata": {},
   "outputs": [],
   "source": [
    "GetCompasData('SBJ_2009_001', '14', '14.광양시_소유지정보.geojson')"
   ]
  },
  {
   "cell_type": "code",
   "execution_count": 15,
   "metadata": {},
   "outputs": [],
   "source": [
    "GetCompasData('SBJ_2009_001', '20', '20.광양시_행정경계(읍면동).geojson')"
   ]
  },
  {
   "cell_type": "code",
   "execution_count": 16,
   "metadata": {},
   "outputs": [],
   "source": [
    "GetCompasData('SBJ_2009_001', '26', '26.광양시_도시계획(교통시설).geojson')"
   ]
  }
 ],
 "metadata": {
  "kernelspec": {
   "display_name": "Python 3",
   "language": "python",
   "name": "python3"
  },
  "language_info": {
   "codemirror_mode": {
    "name": "ipython",
    "version": 3
   },
   "file_extension": ".py",
   "mimetype": "text/x-python",
   "name": "python",
   "nbconvert_exporter": "python",
   "pygments_lexer": "ipython3",
   "version": "3.6.9"
  }
 },
 "nbformat": 4,
 "nbformat_minor": 2
}
