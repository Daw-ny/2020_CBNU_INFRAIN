{
 "cells": [
  {
   "cell_type": "code",
   "execution_count": 1,
   "metadata": {},
   "outputs": [],
   "source": [
    "import folium\n",
    "import json\n",
    "import geopandas as gpd\n",
    "import folium.plugins"
   ]
  },
  {
   "cell_type": "code",
   "execution_count": 2,
   "metadata": {},
   "outputs": [],
   "source": [
    "import numpy as np\n",
    "import pandas as pd"
   ]
  },
  {
   "cell_type": "code",
   "execution_count": 3,
   "metadata": {},
   "outputs": [],
   "source": [
    "gp = gpd.read_file('14.광양시_소유지정보.geojson')"
   ]
  },
  {
   "cell_type": "code",
   "execution_count": 4,
   "metadata": {},
   "outputs": [
    {
     "data": {
      "text/html": [
       "<div>\n",
       "<style scoped>\n",
       "    .dataframe tbody tr th:only-of-type {\n",
       "        vertical-align: middle;\n",
       "    }\n",
       "\n",
       "    .dataframe tbody tr th {\n",
       "        vertical-align: top;\n",
       "    }\n",
       "\n",
       "    .dataframe thead th {\n",
       "        text-align: right;\n",
       "    }\n",
       "</style>\n",
       "<table border=\"1\" class=\"dataframe\">\n",
       "  <thead>\n",
       "    <tr style=\"text-align: right;\">\n",
       "      <th></th>\n",
       "      <th>고유번호</th>\n",
       "      <th>법정동코드</th>\n",
       "      <th>법정동명</th>\n",
       "      <th>지번</th>\n",
       "      <th>소유구분코드</th>\n",
       "      <th>소유구분명</th>\n",
       "      <th>국가기관구분코드</th>\n",
       "      <th>국가기관구분</th>\n",
       "      <th>지목코드</th>\n",
       "      <th>지목</th>\n",
       "      <th>토지면적</th>\n",
       "      <th>geometry</th>\n",
       "    </tr>\n",
       "  </thead>\n",
       "  <tbody>\n",
       "    <tr>\n",
       "      <th>2</th>\n",
       "      <td>4623032024201080000</td>\n",
       "      <td>4623032024</td>\n",
       "      <td>전라남도 광양시 옥룡면 동곡리</td>\n",
       "      <td>108</td>\n",
       "      <td>None</td>\n",
       "      <td>None</td>\n",
       "      <td>None</td>\n",
       "      <td>None</td>\n",
       "      <td>05</td>\n",
       "      <td>임야</td>\n",
       "      <td>240113.0</td>\n",
       "      <td>MULTIPOLYGON (((127.61412 35.08394, 127.61406 ...</td>\n",
       "    </tr>\n",
       "    <tr>\n",
       "      <th>3</th>\n",
       "      <td>4623033022105110000</td>\n",
       "      <td>4623033022</td>\n",
       "      <td>전라남도 광양시 옥곡면 대죽리</td>\n",
       "      <td>511</td>\n",
       "      <td>01</td>\n",
       "      <td>개인</td>\n",
       "      <td>ZZ</td>\n",
       "      <td>구분없음</td>\n",
       "      <td>02</td>\n",
       "      <td>답</td>\n",
       "      <td>747.0</td>\n",
       "      <td>MULTIPOLYGON (((127.67042 34.99886, 127.67048 ...</td>\n",
       "    </tr>\n",
       "    <tr>\n",
       "      <th>5</th>\n",
       "      <td>4623033023111150000</td>\n",
       "      <td>4623033023</td>\n",
       "      <td>전라남도 광양시 옥곡면 묵백리</td>\n",
       "      <td>1115</td>\n",
       "      <td>01</td>\n",
       "      <td>개인</td>\n",
       "      <td>ZZ</td>\n",
       "      <td>구분없음</td>\n",
       "      <td>08</td>\n",
       "      <td>대</td>\n",
       "      <td>271.0</td>\n",
       "      <td>MULTIPOLYGON (((127.67738 35.01002, 127.67732 ...</td>\n",
       "    </tr>\n",
       "    <tr>\n",
       "      <th>6</th>\n",
       "      <td>4623033024109690001</td>\n",
       "      <td>4623033024</td>\n",
       "      <td>전라남도 광양시 옥곡면 신금리</td>\n",
       "      <td>969-1</td>\n",
       "      <td>01</td>\n",
       "      <td>개인</td>\n",
       "      <td>ZZ</td>\n",
       "      <td>구분없음</td>\n",
       "      <td>01</td>\n",
       "      <td>전</td>\n",
       "      <td>1117.0</td>\n",
       "      <td>MULTIPOLYGON (((127.71232 34.98812, 127.71223 ...</td>\n",
       "    </tr>\n",
       "    <tr>\n",
       "      <th>7</th>\n",
       "      <td>4623010100201840010</td>\n",
       "      <td>4623010100</td>\n",
       "      <td>전라남도 광양시 황금동</td>\n",
       "      <td>184-10</td>\n",
       "      <td>05</td>\n",
       "      <td>군유지</td>\n",
       "      <td>ZZ</td>\n",
       "      <td>구분없음</td>\n",
       "      <td>14</td>\n",
       "      <td>도로</td>\n",
       "      <td>1352.0</td>\n",
       "      <td>MULTIPOLYGON (((127.62340 34.91834, 127.62341 ...</td>\n",
       "    </tr>\n",
       "    <tr>\n",
       "      <th>...</th>\n",
       "      <td>...</td>\n",
       "      <td>...</td>\n",
       "      <td>...</td>\n",
       "      <td>...</td>\n",
       "      <td>...</td>\n",
       "      <td>...</td>\n",
       "      <td>...</td>\n",
       "      <td>...</td>\n",
       "      <td>...</td>\n",
       "      <td>...</td>\n",
       "      <td>...</td>\n",
       "      <td>...</td>\n",
       "    </tr>\n",
       "    <tr>\n",
       "      <th>198157</th>\n",
       "      <td>4623032023200200009</td>\n",
       "      <td>4623032023</td>\n",
       "      <td>전라남도 광양시 옥룡면 추산리</td>\n",
       "      <td>20-9</td>\n",
       "      <td>01</td>\n",
       "      <td>개인</td>\n",
       "      <td>ZZ</td>\n",
       "      <td>구분없음</td>\n",
       "      <td>05</td>\n",
       "      <td>임야</td>\n",
       "      <td>467.0</td>\n",
       "      <td>MULTIPOLYGON (((127.60989 35.05167, 127.60987 ...</td>\n",
       "    </tr>\n",
       "    <tr>\n",
       "      <th>198158</th>\n",
       "      <td>4623034027112370000</td>\n",
       "      <td>4623034027</td>\n",
       "      <td>전라남도 광양시 진상면 청암리</td>\n",
       "      <td>1237</td>\n",
       "      <td>01</td>\n",
       "      <td>개인</td>\n",
       "      <td>ZZ</td>\n",
       "      <td>구분없음</td>\n",
       "      <td>08</td>\n",
       "      <td>대</td>\n",
       "      <td>333.0</td>\n",
       "      <td>MULTIPOLYGON (((127.72637 34.99362, 127.72632 ...</td>\n",
       "    </tr>\n",
       "    <tr>\n",
       "      <th>198160</th>\n",
       "      <td>4623034027109230001</td>\n",
       "      <td>4623034027</td>\n",
       "      <td>전라남도 광양시 진상면 청암리</td>\n",
       "      <td>923-1</td>\n",
       "      <td>01</td>\n",
       "      <td>개인</td>\n",
       "      <td>ZZ</td>\n",
       "      <td>구분없음</td>\n",
       "      <td>02</td>\n",
       "      <td>답</td>\n",
       "      <td>1410.0</td>\n",
       "      <td>MULTIPOLYGON (((127.71976 35.00395, 127.71944 ...</td>\n",
       "    </tr>\n",
       "    <tr>\n",
       "      <th>198162</th>\n",
       "      <td>4623034023201970004</td>\n",
       "      <td>4623034023</td>\n",
       "      <td>전라남도 광양시 진상면 비평리</td>\n",
       "      <td>197-4</td>\n",
       "      <td>01</td>\n",
       "      <td>개인</td>\n",
       "      <td>ZZ</td>\n",
       "      <td>구분없음</td>\n",
       "      <td>05</td>\n",
       "      <td>임야</td>\n",
       "      <td>13637.0</td>\n",
       "      <td>MULTIPOLYGON (((127.70324 35.04567, 127.70231 ...</td>\n",
       "    </tr>\n",
       "    <tr>\n",
       "      <th>198164</th>\n",
       "      <td>4623034023201970006</td>\n",
       "      <td>4623034023</td>\n",
       "      <td>전라남도 광양시 진상면 비평리</td>\n",
       "      <td>197-6</td>\n",
       "      <td>01</td>\n",
       "      <td>개인</td>\n",
       "      <td>ZZ</td>\n",
       "      <td>구분없음</td>\n",
       "      <td>05</td>\n",
       "      <td>임야</td>\n",
       "      <td>45093.0</td>\n",
       "      <td>MULTIPOLYGON (((127.70198 35.04717, 127.70218 ...</td>\n",
       "    </tr>\n",
       "  </tbody>\n",
       "</table>\n",
       "<p>196812 rows × 12 columns</p>\n",
       "</div>"
      ],
      "text/plain": [
       "                       고유번호       법정동코드              법정동명      지번 소유구분코드  \\\n",
       "2       4623032024201080000  4623032024  전라남도 광양시 옥룡면 동곡리     108   None   \n",
       "3       4623033022105110000  4623033022  전라남도 광양시 옥곡면 대죽리     511     01   \n",
       "5       4623033023111150000  4623033023  전라남도 광양시 옥곡면 묵백리    1115     01   \n",
       "6       4623033024109690001  4623033024  전라남도 광양시 옥곡면 신금리   969-1     01   \n",
       "7       4623010100201840010  4623010100      전라남도 광양시 황금동  184-10     05   \n",
       "...                     ...         ...               ...     ...    ...   \n",
       "198157  4623032023200200009  4623032023  전라남도 광양시 옥룡면 추산리    20-9     01   \n",
       "198158  4623034027112370000  4623034027  전라남도 광양시 진상면 청암리    1237     01   \n",
       "198160  4623034027109230001  4623034027  전라남도 광양시 진상면 청암리   923-1     01   \n",
       "198162  4623034023201970004  4623034023  전라남도 광양시 진상면 비평리   197-4     01   \n",
       "198164  4623034023201970006  4623034023  전라남도 광양시 진상면 비평리   197-6     01   \n",
       "\n",
       "       소유구분명 국가기관구분코드 국가기관구분 지목코드  지목      토지면적  \\\n",
       "2       None     None   None   05  임야  240113.0   \n",
       "3         개인       ZZ   구분없음   02   답     747.0   \n",
       "5         개인       ZZ   구분없음   08   대     271.0   \n",
       "6         개인       ZZ   구분없음   01   전    1117.0   \n",
       "7        군유지       ZZ   구분없음   14  도로    1352.0   \n",
       "...      ...      ...    ...  ...  ..       ...   \n",
       "198157    개인       ZZ   구분없음   05  임야     467.0   \n",
       "198158    개인       ZZ   구분없음   08   대     333.0   \n",
       "198160    개인       ZZ   구분없음   02   답    1410.0   \n",
       "198162    개인       ZZ   구분없음   05  임야   13637.0   \n",
       "198164    개인       ZZ   구분없음   05  임야   45093.0   \n",
       "\n",
       "                                                 geometry  \n",
       "2       MULTIPOLYGON (((127.61412 35.08394, 127.61406 ...  \n",
       "3       MULTIPOLYGON (((127.67042 34.99886, 127.67048 ...  \n",
       "5       MULTIPOLYGON (((127.67738 35.01002, 127.67732 ...  \n",
       "6       MULTIPOLYGON (((127.71232 34.98812, 127.71223 ...  \n",
       "7       MULTIPOLYGON (((127.62340 34.91834, 127.62341 ...  \n",
       "...                                                   ...  \n",
       "198157  MULTIPOLYGON (((127.60989 35.05167, 127.60987 ...  \n",
       "198158  MULTIPOLYGON (((127.72637 34.99362, 127.72632 ...  \n",
       "198160  MULTIPOLYGON (((127.71976 35.00395, 127.71944 ...  \n",
       "198162  MULTIPOLYGON (((127.70324 35.04567, 127.70231 ...  \n",
       "198164  MULTIPOLYGON (((127.70198 35.04717, 127.70218 ...  \n",
       "\n",
       "[196812 rows x 12 columns]"
      ]
     },
     "execution_count": 4,
     "metadata": {},
     "output_type": "execute_result"
    }
   ],
   "source": [
    "gp2 = gp[gp['토지면적']!=0]\n",
    "gp2"
   ]
  },
  {
   "cell_type": "code",
   "execution_count": 5,
   "metadata": {},
   "outputs": [],
   "source": [
    "gun = gp2[gp2['소유구분명'] == \"군유지\"]"
   ]
  },
  {
   "cell_type": "code",
   "execution_count": 6,
   "metadata": {},
   "outputs": [],
   "source": [
    "sido = gp2[gp2['소유구분명'] == \"시, 도유지\"]"
   ]
  },
  {
   "cell_type": "code",
   "execution_count": 7,
   "metadata": {},
   "outputs": [],
   "source": [
    "guk = gp2[gp2['소유구분명'] == \"국유지\"]"
   ]
  },
  {
   "cell_type": "code",
   "execution_count": 8,
   "metadata": {},
   "outputs": [
    {
     "name": "stderr",
     "output_type": "stream",
     "text": [
      "/opt/app-root/lib/python3.6/site-packages/geopandas/geodataframe.py:853: SettingWithCopyWarning: \n",
      "A value is trying to be set on a copy of a slice from a DataFrame.\n",
      "Try using .loc[row_indexer,col_indexer] = value instead\n",
      "\n",
      "See the caveats in the documentation: https://pandas.pydata.org/pandas-docs/stable/user_guide/indexing.html#returning-a-view-versus-a-copy\n",
      "  super(GeoDataFrame, self).__setitem__(key, value)\n"
     ]
    }
   ],
   "source": [
    "gun['동면'] = \"노네임\"\n",
    "sido['동면'] = \"노네임\"\n",
    "guk['동면'] = \"노네임\""
   ]
  },
  {
   "cell_type": "code",
   "execution_count": 9,
   "metadata": {
    "scrolled": true
   },
   "outputs": [
    {
     "name": "stderr",
     "output_type": "stream",
     "text": [
      "/opt/app-root/lib/python3.6/site-packages/ipykernel_launcher.py:2: SettingWithCopyWarning: \n",
      "A value is trying to be set on a copy of a slice from a DataFrame\n",
      "\n",
      "See the caveats in the documentation: https://pandas.pydata.org/pandas-docs/stable/user_guide/indexing.html#returning-a-view-versus-a-copy\n",
      "  \n",
      "/opt/app-root/lib/python3.6/site-packages/IPython/core/interactiveshell.py:3343: SettingWithCopyWarning: \n",
      "A value is trying to be set on a copy of a slice from a DataFrame\n",
      "\n",
      "See the caveats in the documentation: https://pandas.pydata.org/pandas-docs/stable/user_guide/indexing.html#returning-a-view-versus-a-copy\n",
      "  exec(code_obj, self.user_global_ns, self.user_ns)\n",
      "/opt/app-root/lib/python3.6/site-packages/ipykernel_launcher.py:4: SettingWithCopyWarning: \n",
      "A value is trying to be set on a copy of a slice from a DataFrame\n",
      "\n",
      "See the caveats in the documentation: https://pandas.pydata.org/pandas-docs/stable/user_guide/indexing.html#returning-a-view-versus-a-copy\n",
      "  after removing the cwd from sys.path.\n",
      "/opt/app-root/lib/python3.6/site-packages/ipykernel_launcher.py:6: SettingWithCopyWarning: \n",
      "A value is trying to be set on a copy of a slice from a DataFrame\n",
      "\n",
      "See the caveats in the documentation: https://pandas.pydata.org/pandas-docs/stable/user_guide/indexing.html#returning-a-view-versus-a-copy\n",
      "  \n"
     ]
    }
   ],
   "source": [
    "for i in gun.index:\n",
    "    gun['동면'][i] = gun['법정동명'][i][9:12]\n",
    "for i in sido.index:\n",
    "    sido['동면'][i] = sido['법정동명'][i][9:12]\n",
    "for i in guk.index:\n",
    "    guk['동면'][i] = guk['법정동명'][i][9:12]"
   ]
  },
  {
   "cell_type": "code",
   "execution_count": 10,
   "metadata": {},
   "outputs": [],
   "source": [
    "gun_1_golyak = gun[gun['동면']==\"황금동\"]\n",
    "gun_2_golyak = gun[gun['동면']==\"황길동\"]\n",
    "gun_3_golyak = gun[gun['동면']==\"성황동\"]\n",
    "gun_4_golyak = gun[gun['동면']==\"도이동\"]\n",
    "gun_5_golyak = gun[gun['동면']==\"중군동\"]\n",
    "gun_1_jungma = gun[gun['동면']==\"중동\"]\n",
    "gun_2_jungma = gun[gun['동면']==\"마동\"]"
   ]
  },
  {
   "cell_type": "code",
   "execution_count": 11,
   "metadata": {},
   "outputs": [],
   "source": [
    "sido_1_golyak = gun[gun['동면']==\"황금동\"]\n",
    "sido_2_golyak = gun[gun['동면']==\"황길동\"]\n",
    "sido_3_golyak = gun[gun['동면']==\"성황동\"]\n",
    "sido_4_golyak = gun[gun['동면']==\"도이동\"]\n",
    "sido_5_golyak = gun[gun['동면']==\"중군동\"]\n",
    "sido_1_jungma = gun[gun['동면']==\"중동\"]\n",
    "sido_2_jungma = gun[gun['동면']==\"마동\"]"
   ]
  },
  {
   "cell_type": "code",
   "execution_count": 12,
   "metadata": {},
   "outputs": [],
   "source": [
    "guk_1_golyak = gun[gun['동면']==\"황금동\"]\n",
    "guk_2_golyak = gun[gun['동면']==\"황길동\"]\n",
    "guk_3_golyak = gun[gun['동면']==\"성황동\"]\n",
    "guk_4_golyak = gun[gun['동면']==\"도이동\"]\n",
    "guk_5_golyak = gun[gun['동면']==\"중군동\"]\n",
    "guk_1_jungma = gun[gun['동면']==\"중동\"]\n",
    "guk_2_jungma = gun[gun['동면']==\"마동\"]"
   ]
  },
  {
   "cell_type": "code",
   "execution_count": 13,
   "metadata": {},
   "outputs": [],
   "source": [
    "gun_1_golyak['동면']=\"골약동\"\n",
    "gun_2_golyak['동면']=\"골약동\"\n",
    "gun_3_golyak['동면']=\"골약동\"\n",
    "gun_4_golyak['동면']=\"골약동\"\n",
    "gun_5_golyak['동면']=\"골약동\"\n",
    "gun_1_jungma['동면']=\"중마동\"\n",
    "gun_2_jungma['동면']=\"중마동\""
   ]
  },
  {
   "cell_type": "code",
   "execution_count": 14,
   "metadata": {},
   "outputs": [],
   "source": [
    "gun_golyak = pd.concat([gun_1_golyak,gun_2_golyak,gun_3_golyak,gun_4_golyak,gun_5_golyak])\n",
    "sido_golyak = pd.concat([gun_1_golyak,gun_2_golyak,gun_3_golyak,gun_4_golyak,gun_5_golyak])\n",
    "guk_golyak = pd.concat([gun_1_golyak,gun_2_golyak,gun_3_golyak,gun_4_golyak,gun_5_golyak])"
   ]
  },
  {
   "cell_type": "code",
   "execution_count": 15,
   "metadata": {},
   "outputs": [],
   "source": [
    "gun_jungma = pd.concat([gun_1_jungma,gun_1_jungma])\n",
    "sido_jungma = pd.concat([gun_1_jungma,gun_1_jungma])\n",
    "guk_jungma = pd.concat([gun_1_jungma,gun_1_jungma])"
   ]
  },
  {
   "cell_type": "code",
   "execution_count": 16,
   "metadata": {},
   "outputs": [],
   "source": [
    "gun_gumho = gun[gun['동면']==\"금호동\"]\n",
    "gun_kyangyang = gun[gun['동면']==\"광양읍\"]"
   ]
  },
  {
   "cell_type": "code",
   "execution_count": 17,
   "metadata": {},
   "outputs": [],
   "source": [
    "sido_gumho = gun[gun['동면']==\"금호동\"]\n",
    "sido_kyangyang = gun[gun['동면']==\"광양읍\"]"
   ]
  },
  {
   "cell_type": "code",
   "execution_count": 18,
   "metadata": {},
   "outputs": [],
   "source": [
    "guk_gumho = gun[gun['동면']==\"금호동\"]\n",
    "guk_kyangyang = gun[gun['동면']==\"광양읍\"]"
   ]
  },
  {
   "cell_type": "markdown",
   "metadata": {},
   "source": [
    "## ========================================"
   ]
  },
  {
   "cell_type": "code",
   "execution_count": 19,
   "metadata": {},
   "outputs": [],
   "source": [
    "GY = folium.Map(location=[34.9406968,127.6958882], zoom_start=11)"
   ]
  },
  {
   "cell_type": "code",
   "execution_count": 20,
   "metadata": {},
   "outputs": [
    {
     "data": {
      "text/plain": [
       "<folium.features.GeoJson at 0x7f3e09cf9a90>"
      ]
     },
     "execution_count": 20,
     "metadata": {},
     "output_type": "execute_result"
    }
   ],
   "source": [
    "folium.GeoJson(gun_gumho,\n",
    "               name='da1',\n",
    "               style_function=lambda feature:{\n",
    "                   'color': 'gray',     #border color for the color fills\n",
    "                   'weight': 0.7\n",
    "               }\n",
    "              ).add_to(GY)\n",
    "\n",
    "folium.GeoJson(sido_gumho,\n",
    "               name='da2',\n",
    "               style_function=lambda feature:{\n",
    "                   'color': 'gray',     #border color for the color fills\n",
    "                   'weight': 0.7\n",
    "               }\n",
    "              ).add_to(GY)\n",
    "\n",
    "folium.GeoJson(guk_gumho,\n",
    "               name='da3',\n",
    "               style_function=lambda feature:{\n",
    "                   'color': 'gray',     #border color for the color fills\n",
    "                   'weight': 0.7\n",
    "               }\n",
    "              ).add_to(GY)"
   ]
  },
  {
   "cell_type": "code",
   "execution_count": 21,
   "metadata": {},
   "outputs": [
    {
     "data": {
      "text/plain": [
       "<folium.features.GeoJson at 0x7f3e09c7fba8>"
      ]
     },
     "execution_count": 21,
     "metadata": {},
     "output_type": "execute_result"
    }
   ],
   "source": [
    "folium.GeoJson(gun_golyak,\n",
    "               name='da1',\n",
    "               style_function=lambda feature:{\n",
    "                   'color': 'gray',     #border color for the color fills\n",
    "                   'weight': 0.7\n",
    "               }\n",
    "              ).add_to(GY)\n",
    "\n",
    "folium.GeoJson(sido_golyak,\n",
    "               name='da2',\n",
    "               style_function=lambda feature:{\n",
    "                   'color': 'gray',     #border color for the color fills\n",
    "                   'weight': 0.7\n",
    "               }\n",
    "              ).add_to(GY)\n",
    "\n",
    "folium.GeoJson(guk_golyak,\n",
    "               name='da3',\n",
    "               style_function=lambda feature:{\n",
    "                   'color': 'gray',     #border color for the color fills\n",
    "                   'weight': 0.7\n",
    "               }\n",
    "              ).add_to(GY)"
   ]
  },
  {
   "cell_type": "code",
   "execution_count": 22,
   "metadata": {},
   "outputs": [
    {
     "data": {
      "text/plain": [
       "<folium.features.GeoJson at 0x7f3e041aaa20>"
      ]
     },
     "execution_count": 22,
     "metadata": {},
     "output_type": "execute_result"
    }
   ],
   "source": [
    "folium.GeoJson(gun_jungma,\n",
    "               name='da1',\n",
    "               style_function=lambda feature:{\n",
    "                   'color': 'gray',     #border color for the color fills\n",
    "                   'weight': 0.7\n",
    "               }\n",
    "              ).add_to(GY)\n",
    "\n",
    "folium.GeoJson(sido_jungma,\n",
    "               name='da2',\n",
    "               style_function=lambda feature:{\n",
    "                   'color': 'gray',     #border color for the color fills\n",
    "                   'weight': 0.7\n",
    "               }\n",
    "              ).add_to(GY)\n",
    "\n",
    "folium.GeoJson(guk_jungma,\n",
    "               name='da3',\n",
    "               style_function=lambda feature:{\n",
    "                   'color': 'gray',     #border color for the color fills\n",
    "                   'weight': 0.7\n",
    "               }\n",
    "              ).add_to(GY)"
   ]
  },
  {
   "cell_type": "code",
   "execution_count": 23,
   "metadata": {},
   "outputs": [
    {
     "data": {
      "text/plain": [
       "<folium.features.GeoJson at 0x7f3de248ce48>"
      ]
     },
     "execution_count": 23,
     "metadata": {},
     "output_type": "execute_result"
    }
   ],
   "source": [
    "folium.GeoJson(gun_kyangyang,\n",
    "               name='da1',\n",
    "               style_function=lambda feature:{\n",
    "                   'color': 'gray',     #border color for the color fills\n",
    "                   'weight': 0.7\n",
    "               }\n",
    "              ).add_to(GY)\n",
    "\n",
    "folium.GeoJson(sido_kyangyang,\n",
    "               name='da2',\n",
    "               style_function=lambda feature:{\n",
    "                   'color': 'gray',     #border color for the color fills\n",
    "                   'weight': 0.7\n",
    "               }\n",
    "              ).add_to(GY)\n",
    "\n",
    "folium.GeoJson(guk_kyangyang,\n",
    "               name='da3',\n",
    "               style_function=lambda feature:{\n",
    "                   'color': 'gray',     #border color for the color fills\n",
    "                   'weight': 0.7\n",
    "               }\n",
    "              ).add_to(GY)"
   ]
  },
  {
   "cell_type": "code",
   "execution_count": 24,
   "metadata": {},
   "outputs": [],
   "source": [
    "GY.save('./광양시선정읍면동.html')"
   ]
  },
  {
   "cell_type": "code",
   "execution_count": 25,
   "metadata": {},
   "outputs": [],
   "source": [
    "park = pd.read_csv('선정된곳_결정_데이터_모으기.csv')"
   ]
  },
  {
   "cell_type": "markdown",
   "metadata": {},
   "source": [
    "### 사유지 O,X"
   ]
  },
  {
   "cell_type": "code",
   "execution_count": 43,
   "metadata": {},
   "outputs": [],
   "source": [
    "체크 = folium.Map(location=[34.9406968,127.6958882], zoom_start=11)"
   ]
  },
  {
   "cell_type": "code",
   "execution_count": 44,
   "metadata": {},
   "outputs": [
    {
     "data": {
      "text/plain": [
       "<folium.features.GeoJson at 0x7f3dd596a240>"
      ]
     },
     "execution_count": 44,
     "metadata": {},
     "output_type": "execute_result"
    }
   ],
   "source": [
    "folium.GeoJson(gun_gumho,\n",
    "               name='da1',\n",
    "               style_function=lambda feature:{\n",
    "                   'color': 'gray',     #border color for the color fills\n",
    "                   'weight': 0.7\n",
    "               }\n",
    "              ).add_to(체크)\n",
    "\n",
    "folium.GeoJson(sido_gumho,\n",
    "               name='da2',\n",
    "               style_function=lambda feature:{\n",
    "                   'color': 'gray',     #border color for the color fills\n",
    "                   'weight': 0.7\n",
    "               }\n",
    "              ).add_to(체크)\n",
    "\n",
    "folium.GeoJson(guk_gumho,\n",
    "               name='da3',\n",
    "               style_function=lambda feature:{\n",
    "                   'color': 'gray',     #border color for the color fills\n",
    "                   'weight': 0.7\n",
    "               }\n",
    "              ).add_to(체크)"
   ]
  },
  {
   "cell_type": "code",
   "execution_count": 45,
   "metadata": {},
   "outputs": [
    {
     "data": {
      "text/plain": [
       "<folium.features.GeoJson at 0x7f3dd5b29e80>"
      ]
     },
     "execution_count": 45,
     "metadata": {},
     "output_type": "execute_result"
    }
   ],
   "source": [
    "folium.GeoJson(gun_golyak,\n",
    "               name='da1',\n",
    "               style_function=lambda feature:{\n",
    "                   'color': 'gray',     #border color for the color fills\n",
    "                   'weight': 0.7\n",
    "               }\n",
    "              ).add_to(체크)\n",
    "\n",
    "folium.GeoJson(sido_golyak,\n",
    "               name='da2',\n",
    "               style_function=lambda feature:{\n",
    "                   'color': 'gray',     #border color for the color fills\n",
    "                   'weight': 0.7\n",
    "               }\n",
    "              ).add_to(체크)\n",
    "\n",
    "folium.GeoJson(guk_golyak,\n",
    "               name='da3',\n",
    "               style_function=lambda feature:{\n",
    "                   'color': 'gray',     #border color for the color fills\n",
    "                   'weight': 0.7\n",
    "               }\n",
    "              ).add_to(체크)"
   ]
  },
  {
   "cell_type": "code",
   "execution_count": 46,
   "metadata": {},
   "outputs": [
    {
     "data": {
      "text/plain": [
       "<folium.features.GeoJson at 0x7f3dd3ba0160>"
      ]
     },
     "execution_count": 46,
     "metadata": {},
     "output_type": "execute_result"
    }
   ],
   "source": [
    "folium.GeoJson(gun_jungma,\n",
    "               name='da1',\n",
    "               style_function=lambda feature:{\n",
    "                   'color': 'gray',     #border color for the color fills\n",
    "                   'weight': 0.7\n",
    "               }\n",
    "              ).add_to(체크)\n",
    "\n",
    "folium.GeoJson(sido_jungma,\n",
    "               name='da2',\n",
    "               style_function=lambda feature:{\n",
    "                   'color': 'gray',     #border color for the color fills\n",
    "                   'weight': 0.7\n",
    "               }\n",
    "              ).add_to(체크)\n",
    "\n",
    "folium.GeoJson(guk_jungma,\n",
    "               name='da3',\n",
    "               style_function=lambda feature:{\n",
    "                   'color': 'gray',     #border color for the color fills\n",
    "                   'weight': 0.7\n",
    "               }\n",
    "              ).add_to(체크)"
   ]
  },
  {
   "cell_type": "code",
   "execution_count": 47,
   "metadata": {},
   "outputs": [
    {
     "data": {
      "text/plain": [
       "<folium.features.GeoJson at 0x7f3dd11340f0>"
      ]
     },
     "execution_count": 47,
     "metadata": {},
     "output_type": "execute_result"
    }
   ],
   "source": [
    "folium.GeoJson(gun_kyangyang,\n",
    "               name='da1',\n",
    "               style_function=lambda feature:{\n",
    "                   'color': 'gray',     #border color for the color fills\n",
    "                   'weight': 0.7\n",
    "               }\n",
    "              ).add_to(체크)\n",
    "\n",
    "folium.GeoJson(sido_kyangyang,\n",
    "               name='da2',\n",
    "               style_function=lambda feature:{\n",
    "                   'color': 'gray',     #border color for the color fills\n",
    "                   'weight': 0.7\n",
    "               }\n",
    "              ).add_to(체크)\n",
    "\n",
    "folium.GeoJson(guk_kyangyang,\n",
    "               name='da3',\n",
    "               style_function=lambda feature:{\n",
    "                   'color': 'gray',     #border color for the color fills\n",
    "                   'weight': 0.7\n",
    "               }\n",
    "              ).add_to(체크)"
   ]
  },
  {
   "cell_type": "code",
   "execution_count": 48,
   "metadata": {},
   "outputs": [],
   "source": [
    "for i in park.index:\n",
    "    # 행 우선 접근 방식으로 값 추출하기\n",
    "    name = str(park.index[i])\n",
    "    lat = park.iloc[i, 2]\n",
    "    lng = park.iloc[i, 1]\n",
    "    \n",
    "    # 추출한 정보를 지도에 표시\n",
    "    marker = folium.Marker([lat,lng],popup=name,icon=folium.Icon(color='black',icon='info-sign'))\n",
    "    marker.add_to(체크)"
   ]
  },
  {
   "cell_type": "code",
   "execution_count": 49,
   "metadata": {},
   "outputs": [],
   "source": [
    "체크.save('./광양시선정읍면동.html')"
   ]
  },
  {
   "cell_type": "code",
   "execution_count": 50,
   "metadata": {},
   "outputs": [],
   "source": [
    "z = \"O\"\n",
    "x = \"X\"\n",
    "c = \"Z\"\n",
    "급속가능여부 = [z,x,x,z,z,c,x,z,x,z,z,z,c,z,z,z,z,z,z,x,z,z,z,z,z,x,x,z,x,x,z,x,c,x,x,x,x,x,x,x,x,x,x,x,c,x,x,x,z,x,x,x,x,x,z,z,x,x,x,x,x,x,x,x]"
   ]
  },
  {
   "cell_type": "code",
   "execution_count": 52,
   "metadata": {},
   "outputs": [],
   "source": [
    "park['급속가능여부'] = 급속가능여부"
   ]
  },
  {
   "cell_type": "code",
   "execution_count": 53,
   "metadata": {},
   "outputs": [
    {
     "data": {
      "text/html": [
       "<div>\n",
       "<style scoped>\n",
       "    .dataframe tbody tr th:only-of-type {\n",
       "        vertical-align: middle;\n",
       "    }\n",
       "\n",
       "    .dataframe tbody tr th {\n",
       "        vertical-align: top;\n",
       "    }\n",
       "\n",
       "    .dataframe thead th {\n",
       "        text-align: right;\n",
       "    }\n",
       "</style>\n",
       "<table border=\"1\" class=\"dataframe\">\n",
       "  <thead>\n",
       "    <tr style=\"text-align: right;\">\n",
       "      <th></th>\n",
       "      <th>Unnamed: 0</th>\n",
       "      <th>lon</th>\n",
       "      <th>lat</th>\n",
       "      <th>읍면동</th>\n",
       "      <th>인구수</th>\n",
       "      <th>근처충전소</th>\n",
       "      <th>초록도로</th>\n",
       "      <th>노란도로</th>\n",
       "      <th>빨간도로</th>\n",
       "      <th>급속가능여부</th>\n",
       "    </tr>\n",
       "  </thead>\n",
       "  <tbody>\n",
       "    <tr>\n",
       "      <th>0</th>\n",
       "      <td>0</td>\n",
       "      <td>127.653240</td>\n",
       "      <td>34.914428</td>\n",
       "      <td>골약동</td>\n",
       "      <td>0.0</td>\n",
       "      <td>X</td>\n",
       "      <td>1</td>\n",
       "      <td>1</td>\n",
       "      <td>0</td>\n",
       "      <td>O</td>\n",
       "    </tr>\n",
       "    <tr>\n",
       "      <th>1</th>\n",
       "      <td>1</td>\n",
       "      <td>127.656326</td>\n",
       "      <td>34.923105</td>\n",
       "      <td>골약동</td>\n",
       "      <td>0.0</td>\n",
       "      <td>X</td>\n",
       "      <td>0</td>\n",
       "      <td>0</td>\n",
       "      <td>0</td>\n",
       "      <td>X</td>\n",
       "    </tr>\n",
       "    <tr>\n",
       "      <th>2</th>\n",
       "      <td>2</td>\n",
       "      <td>127.667705</td>\n",
       "      <td>34.937896</td>\n",
       "      <td>골약동</td>\n",
       "      <td>0.0</td>\n",
       "      <td>X</td>\n",
       "      <td>0</td>\n",
       "      <td>0</td>\n",
       "      <td>0</td>\n",
       "      <td>X</td>\n",
       "    </tr>\n",
       "    <tr>\n",
       "      <th>3</th>\n",
       "      <td>3</td>\n",
       "      <td>127.673435</td>\n",
       "      <td>34.945701</td>\n",
       "      <td>골약동</td>\n",
       "      <td>0.0</td>\n",
       "      <td>X</td>\n",
       "      <td>0</td>\n",
       "      <td>0</td>\n",
       "      <td>3</td>\n",
       "      <td>O</td>\n",
       "    </tr>\n",
       "    <tr>\n",
       "      <th>4</th>\n",
       "      <td>4</td>\n",
       "      <td>127.668356</td>\n",
       "      <td>34.914442</td>\n",
       "      <td>골약동</td>\n",
       "      <td>0.0</td>\n",
       "      <td>X</td>\n",
       "      <td>2</td>\n",
       "      <td>0</td>\n",
       "      <td>1</td>\n",
       "      <td>O</td>\n",
       "    </tr>\n",
       "    <tr>\n",
       "      <th>...</th>\n",
       "      <td>...</td>\n",
       "      <td>...</td>\n",
       "      <td>...</td>\n",
       "      <td>...</td>\n",
       "      <td>...</td>\n",
       "      <td>...</td>\n",
       "      <td>...</td>\n",
       "      <td>...</td>\n",
       "      <td>...</td>\n",
       "      <td>...</td>\n",
       "    </tr>\n",
       "    <tr>\n",
       "      <th>59</th>\n",
       "      <td>59</td>\n",
       "      <td>127.579144</td>\n",
       "      <td>34.967642</td>\n",
       "      <td>광양읍</td>\n",
       "      <td>0.0</td>\n",
       "      <td>X</td>\n",
       "      <td>0</td>\n",
       "      <td>1</td>\n",
       "      <td>1</td>\n",
       "      <td>X</td>\n",
       "    </tr>\n",
       "    <tr>\n",
       "      <th>60</th>\n",
       "      <td>60</td>\n",
       "      <td>127.581681</td>\n",
       "      <td>34.979078</td>\n",
       "      <td>광양읍</td>\n",
       "      <td>43.0</td>\n",
       "      <td>X</td>\n",
       "      <td>1</td>\n",
       "      <td>2</td>\n",
       "      <td>0</td>\n",
       "      <td>X</td>\n",
       "    </tr>\n",
       "    <tr>\n",
       "      <th>61</th>\n",
       "      <td>61</td>\n",
       "      <td>127.582571</td>\n",
       "      <td>34.975913</td>\n",
       "      <td>광양읍</td>\n",
       "      <td>0.0</td>\n",
       "      <td>X</td>\n",
       "      <td>1</td>\n",
       "      <td>1</td>\n",
       "      <td>1</td>\n",
       "      <td>X</td>\n",
       "    </tr>\n",
       "    <tr>\n",
       "      <th>62</th>\n",
       "      <td>62</td>\n",
       "      <td>127.578149</td>\n",
       "      <td>34.969593</td>\n",
       "      <td>광양읍</td>\n",
       "      <td>0.0</td>\n",
       "      <td>X</td>\n",
       "      <td>0</td>\n",
       "      <td>1</td>\n",
       "      <td>0</td>\n",
       "      <td>X</td>\n",
       "    </tr>\n",
       "    <tr>\n",
       "      <th>63</th>\n",
       "      <td>63</td>\n",
       "      <td>127.570413</td>\n",
       "      <td>34.966961</td>\n",
       "      <td>광양읍</td>\n",
       "      <td>37.0</td>\n",
       "      <td>X</td>\n",
       "      <td>2</td>\n",
       "      <td>1</td>\n",
       "      <td>0</td>\n",
       "      <td>X</td>\n",
       "    </tr>\n",
       "  </tbody>\n",
       "</table>\n",
       "<p>64 rows × 10 columns</p>\n",
       "</div>"
      ],
      "text/plain": [
       "    Unnamed: 0         lon        lat  읍면동   인구수 근처충전소  초록도로  노란도로  빨간도로  \\\n",
       "0            0  127.653240  34.914428  골약동   0.0     X     1     1     0   \n",
       "1            1  127.656326  34.923105  골약동   0.0     X     0     0     0   \n",
       "2            2  127.667705  34.937896  골약동   0.0     X     0     0     0   \n",
       "3            3  127.673435  34.945701  골약동   0.0     X     0     0     3   \n",
       "4            4  127.668356  34.914442  골약동   0.0     X     2     0     1   \n",
       "..         ...         ...        ...  ...   ...   ...   ...   ...   ...   \n",
       "59          59  127.579144  34.967642  광양읍   0.0     X     0     1     1   \n",
       "60          60  127.581681  34.979078  광양읍  43.0     X     1     2     0   \n",
       "61          61  127.582571  34.975913  광양읍   0.0     X     1     1     1   \n",
       "62          62  127.578149  34.969593  광양읍   0.0     X     0     1     0   \n",
       "63          63  127.570413  34.966961  광양읍  37.0     X     2     1     0   \n",
       "\n",
       "   급속가능여부  \n",
       "0       O  \n",
       "1       X  \n",
       "2       X  \n",
       "3       O  \n",
       "4       O  \n",
       "..    ...  \n",
       "59      X  \n",
       "60      X  \n",
       "61      X  \n",
       "62      X  \n",
       "63      X  \n",
       "\n",
       "[64 rows x 10 columns]"
      ]
     },
     "execution_count": 53,
     "metadata": {},
     "output_type": "execute_result"
    }
   ],
   "source": [
    "park"
   ]
  },
  {
   "cell_type": "code",
   "execution_count": 54,
   "metadata": {},
   "outputs": [],
   "source": [
    "park.to_csv('결정데이터.csv',\n",
    "           sep=',',\n",
    "           na_rep=\"NaN\")"
   ]
  }
 ],
 "metadata": {
  "kernelspec": {
   "display_name": "Python 3",
   "language": "python",
   "name": "python3"
  },
  "language_info": {
   "codemirror_mode": {
    "name": "ipython",
    "version": 3
   },
   "file_extension": ".py",
   "mimetype": "text/x-python",
   "name": "python",
   "nbconvert_exporter": "python",
   "pygments_lexer": "ipython3",
   "version": "3.6.9"
  }
 },
 "nbformat": 4,
 "nbformat_minor": 2
}
