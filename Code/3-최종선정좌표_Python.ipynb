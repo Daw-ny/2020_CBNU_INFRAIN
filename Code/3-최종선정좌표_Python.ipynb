{
 "cells": [
  {
   "cell_type": "code",
   "execution_count": 1,
   "metadata": {},
   "outputs": [],
   "source": [
    "import numpy as np\n",
    "import pandas as pd"
   ]
  },
  {
   "cell_type": "code",
   "execution_count": 2,
   "metadata": {},
   "outputs": [],
   "source": [
    "data = pd.read_csv('결정데이터.csv')"
   ]
  },
  {
   "cell_type": "code",
   "execution_count": 5,
   "metadata": {},
   "outputs": [],
   "source": [
    "data_use = data.iloc[:,2:]"
   ]
  },
  {
   "cell_type": "code",
   "execution_count": 6,
   "metadata": {},
   "outputs": [
    {
     "data": {
      "text/html": [
       "<div>\n",
       "<style scoped>\n",
       "    .dataframe tbody tr th:only-of-type {\n",
       "        vertical-align: middle;\n",
       "    }\n",
       "\n",
       "    .dataframe tbody tr th {\n",
       "        vertical-align: top;\n",
       "    }\n",
       "\n",
       "    .dataframe thead th {\n",
       "        text-align: right;\n",
       "    }\n",
       "</style>\n",
       "<table border=\"1\" class=\"dataframe\">\n",
       "  <thead>\n",
       "    <tr style=\"text-align: right;\">\n",
       "      <th></th>\n",
       "      <th>lon</th>\n",
       "      <th>lat</th>\n",
       "      <th>읍면동</th>\n",
       "      <th>인구수</th>\n",
       "      <th>근처충전소</th>\n",
       "      <th>초록도로</th>\n",
       "      <th>노란도로</th>\n",
       "      <th>빨간도로</th>\n",
       "      <th>급속가능여부</th>\n",
       "    </tr>\n",
       "  </thead>\n",
       "  <tbody>\n",
       "    <tr>\n",
       "      <th>0</th>\n",
       "      <td>127.653240</td>\n",
       "      <td>34.914428</td>\n",
       "      <td>골약동</td>\n",
       "      <td>0.0</td>\n",
       "      <td>X</td>\n",
       "      <td>1</td>\n",
       "      <td>1</td>\n",
       "      <td>0</td>\n",
       "      <td>O</td>\n",
       "    </tr>\n",
       "    <tr>\n",
       "      <th>1</th>\n",
       "      <td>127.656326</td>\n",
       "      <td>34.923105</td>\n",
       "      <td>골약동</td>\n",
       "      <td>0.0</td>\n",
       "      <td>X</td>\n",
       "      <td>0</td>\n",
       "      <td>0</td>\n",
       "      <td>0</td>\n",
       "      <td>X</td>\n",
       "    </tr>\n",
       "    <tr>\n",
       "      <th>2</th>\n",
       "      <td>127.667705</td>\n",
       "      <td>34.937896</td>\n",
       "      <td>골약동</td>\n",
       "      <td>0.0</td>\n",
       "      <td>X</td>\n",
       "      <td>0</td>\n",
       "      <td>0</td>\n",
       "      <td>0</td>\n",
       "      <td>X</td>\n",
       "    </tr>\n",
       "    <tr>\n",
       "      <th>3</th>\n",
       "      <td>127.673435</td>\n",
       "      <td>34.945701</td>\n",
       "      <td>골약동</td>\n",
       "      <td>0.0</td>\n",
       "      <td>X</td>\n",
       "      <td>0</td>\n",
       "      <td>0</td>\n",
       "      <td>3</td>\n",
       "      <td>O</td>\n",
       "    </tr>\n",
       "    <tr>\n",
       "      <th>4</th>\n",
       "      <td>127.668356</td>\n",
       "      <td>34.914442</td>\n",
       "      <td>골약동</td>\n",
       "      <td>0.0</td>\n",
       "      <td>X</td>\n",
       "      <td>2</td>\n",
       "      <td>0</td>\n",
       "      <td>1</td>\n",
       "      <td>O</td>\n",
       "    </tr>\n",
       "    <tr>\n",
       "      <th>...</th>\n",
       "      <td>...</td>\n",
       "      <td>...</td>\n",
       "      <td>...</td>\n",
       "      <td>...</td>\n",
       "      <td>...</td>\n",
       "      <td>...</td>\n",
       "      <td>...</td>\n",
       "      <td>...</td>\n",
       "      <td>...</td>\n",
       "    </tr>\n",
       "    <tr>\n",
       "      <th>59</th>\n",
       "      <td>127.579144</td>\n",
       "      <td>34.967642</td>\n",
       "      <td>광양읍</td>\n",
       "      <td>0.0</td>\n",
       "      <td>X</td>\n",
       "      <td>0</td>\n",
       "      <td>1</td>\n",
       "      <td>1</td>\n",
       "      <td>X</td>\n",
       "    </tr>\n",
       "    <tr>\n",
       "      <th>60</th>\n",
       "      <td>127.581681</td>\n",
       "      <td>34.979078</td>\n",
       "      <td>광양읍</td>\n",
       "      <td>43.0</td>\n",
       "      <td>X</td>\n",
       "      <td>1</td>\n",
       "      <td>2</td>\n",
       "      <td>0</td>\n",
       "      <td>X</td>\n",
       "    </tr>\n",
       "    <tr>\n",
       "      <th>61</th>\n",
       "      <td>127.582571</td>\n",
       "      <td>34.975913</td>\n",
       "      <td>광양읍</td>\n",
       "      <td>0.0</td>\n",
       "      <td>X</td>\n",
       "      <td>1</td>\n",
       "      <td>1</td>\n",
       "      <td>1</td>\n",
       "      <td>X</td>\n",
       "    </tr>\n",
       "    <tr>\n",
       "      <th>62</th>\n",
       "      <td>127.578149</td>\n",
       "      <td>34.969593</td>\n",
       "      <td>광양읍</td>\n",
       "      <td>0.0</td>\n",
       "      <td>X</td>\n",
       "      <td>0</td>\n",
       "      <td>1</td>\n",
       "      <td>0</td>\n",
       "      <td>X</td>\n",
       "    </tr>\n",
       "    <tr>\n",
       "      <th>63</th>\n",
       "      <td>127.570413</td>\n",
       "      <td>34.966961</td>\n",
       "      <td>광양읍</td>\n",
       "      <td>37.0</td>\n",
       "      <td>X</td>\n",
       "      <td>2</td>\n",
       "      <td>1</td>\n",
       "      <td>0</td>\n",
       "      <td>X</td>\n",
       "    </tr>\n",
       "  </tbody>\n",
       "</table>\n",
       "<p>64 rows × 9 columns</p>\n",
       "</div>"
      ],
      "text/plain": [
       "           lon        lat  읍면동   인구수 근처충전소  초록도로  노란도로  빨간도로 급속가능여부\n",
       "0   127.653240  34.914428  골약동   0.0     X     1     1     0      O\n",
       "1   127.656326  34.923105  골약동   0.0     X     0     0     0      X\n",
       "2   127.667705  34.937896  골약동   0.0     X     0     0     0      X\n",
       "3   127.673435  34.945701  골약동   0.0     X     0     0     3      O\n",
       "4   127.668356  34.914442  골약동   0.0     X     2     0     1      O\n",
       "..         ...        ...  ...   ...   ...   ...   ...   ...    ...\n",
       "59  127.579144  34.967642  광양읍   0.0     X     0     1     1      X\n",
       "60  127.581681  34.979078  광양읍  43.0     X     1     2     0      X\n",
       "61  127.582571  34.975913  광양읍   0.0     X     1     1     1      X\n",
       "62  127.578149  34.969593  광양읍   0.0     X     0     1     0      X\n",
       "63  127.570413  34.966961  광양읍  37.0     X     2     1     0      X\n",
       "\n",
       "[64 rows x 9 columns]"
      ]
     },
     "execution_count": 6,
     "metadata": {},
     "output_type": "execute_result"
    }
   ],
   "source": [
    "data_use"
   ]
  },
  {
   "cell_type": "markdown",
   "metadata": {},
   "source": [
    "### 도로점수 부여"
   ]
  },
  {
   "cell_type": "code",
   "execution_count": 8,
   "metadata": {},
   "outputs": [],
   "source": [
    "data_use['도로점수'] = 4*data_use['빨간도로']+2*data_use['노란도로']+data_use['초록도로']"
   ]
  },
  {
   "cell_type": "markdown",
   "metadata": {},
   "source": [
    "### 추리기"
   ]
  },
  {
   "cell_type": "code",
   "execution_count": 9,
   "metadata": {},
   "outputs": [],
   "source": [
    "data_use['설치여부'] = \"미설치\""
   ]
  },
  {
   "cell_type": "code",
   "execution_count": 20,
   "metadata": {},
   "outputs": [],
   "source": [
    "완속 = data_use[(data_use['근처충전소']==\"X\")&(data_use['급속가능여부']==\"X\")]\n",
    "급속 = data_use[(data_use['근처충전소']==\"X\")&(data_use['급속가능여부']==\"O\")]"
   ]
  },
  {
   "cell_type": "code",
   "execution_count": 21,
   "metadata": {},
   "outputs": [],
   "source": [
    "완속선정위치 = 완속.sort_values(by=['도로점수','인구수'] ,ascending=False).iloc[0:20,:]\n",
    "급속선정위치 = 급속.sort_values(by=['도로점수','인구수'] ,ascending=False).iloc[0:20,:]"
   ]
  },
  {
   "cell_type": "code",
   "execution_count": 22,
   "metadata": {},
   "outputs": [],
   "source": [
    "완속선정위치['설치여부']=\"완속\"\n",
    "급속선정위치['설치여부']=\"급속\""
   ]
  },
  {
   "cell_type": "code",
   "execution_count": 26,
   "metadata": {},
   "outputs": [],
   "source": [
    "filt = pd.concat([완속선정위치,급속선정위치])"
   ]
  },
  {
   "cell_type": "code",
   "execution_count": 28,
   "metadata": {},
   "outputs": [],
   "source": [
    "최종선정좌표 = filt[['설치여부','lon','lat']]"
   ]
  },
  {
   "cell_type": "code",
   "execution_count": 32,
   "metadata": {},
   "outputs": [],
   "source": [
    "최종선정좌표.to_csv('최종선정.csv',\n",
    "             sep=',',\n",
    "             na_rep=\"NaN\")"
   ]
  }
 ],
 "metadata": {
  "kernelspec": {
   "display_name": "Python 3",
   "language": "python",
   "name": "python3"
  },
  "language_info": {
   "codemirror_mode": {
    "name": "ipython",
    "version": 3
   },
   "file_extension": ".py",
   "mimetype": "text/x-python",
   "name": "python",
   "nbconvert_exporter": "python",
   "pygments_lexer": "ipython3",
   "version": "3.6.9"
  }
 },
 "nbformat": 4,
 "nbformat_minor": 2
}
