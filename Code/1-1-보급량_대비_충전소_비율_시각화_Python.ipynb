{
 "cells": [
  {
   "cell_type": "code",
   "execution_count": 1,
   "metadata": {},
   "outputs": [],
   "source": [
    "#!pip install plotly==4.8.1"
   ]
  },
  {
   "cell_type": "code",
   "execution_count": 2,
   "metadata": {},
   "outputs": [],
   "source": [
    "import plotly.express as px\n",
    "import pandas as pd\n",
    "import numpy as np\n",
    "import folium\n",
    "import json\n",
    "import geopandas as gpd\n",
    "import folium.plugins"
   ]
  },
  {
   "cell_type": "code",
   "execution_count": 3,
   "metadata": {},
   "outputs": [
    {
     "data": {
      "text/html": [
       "<div>\n",
       "<style scoped>\n",
       "    .dataframe tbody tr th:only-of-type {\n",
       "        vertical-align: middle;\n",
       "    }\n",
       "\n",
       "    .dataframe tbody tr th {\n",
       "        vertical-align: top;\n",
       "    }\n",
       "\n",
       "    .dataframe thead th {\n",
       "        text-align: right;\n",
       "    }\n",
       "</style>\n",
       "<table border=\"1\" class=\"dataframe\">\n",
       "  <thead>\n",
       "    <tr style=\"text-align: right;\">\n",
       "      <th></th>\n",
       "      <th>행정구역</th>\n",
       "      <th>구분</th>\n",
       "      <th>값</th>\n",
       "    </tr>\n",
       "  </thead>\n",
       "  <tbody>\n",
       "    <tr>\n",
       "      <th>24</th>\n",
       "      <td>골약동</td>\n",
       "      <td>총보급필요율</td>\n",
       "      <td>40.000000</td>\n",
       "    </tr>\n",
       "    <tr>\n",
       "      <th>25</th>\n",
       "      <td>광양읍</td>\n",
       "      <td>총보급필요율</td>\n",
       "      <td>4.857143</td>\n",
       "    </tr>\n",
       "    <tr>\n",
       "      <th>26</th>\n",
       "      <td>광영동</td>\n",
       "      <td>총보급필요율</td>\n",
       "      <td>0.923077</td>\n",
       "    </tr>\n",
       "    <tr>\n",
       "      <th>27</th>\n",
       "      <td>금호동</td>\n",
       "      <td>총보급필요율</td>\n",
       "      <td>11.500000</td>\n",
       "    </tr>\n",
       "    <tr>\n",
       "      <th>28</th>\n",
       "      <td>다압면</td>\n",
       "      <td>총보급필요율</td>\n",
       "      <td>1.000000</td>\n",
       "    </tr>\n",
       "    <tr>\n",
       "      <th>29</th>\n",
       "      <td>봉강면</td>\n",
       "      <td>총보급필요율</td>\n",
       "      <td>40.000000</td>\n",
       "    </tr>\n",
       "    <tr>\n",
       "      <th>30</th>\n",
       "      <td>옥곡면</td>\n",
       "      <td>총보급필요율</td>\n",
       "      <td>8.000000</td>\n",
       "    </tr>\n",
       "    <tr>\n",
       "      <th>31</th>\n",
       "      <td>옥룡면</td>\n",
       "      <td>총보급필요율</td>\n",
       "      <td>110.000000</td>\n",
       "    </tr>\n",
       "    <tr>\n",
       "      <th>32</th>\n",
       "      <td>중마동</td>\n",
       "      <td>총보급필요율</td>\n",
       "      <td>2.689655</td>\n",
       "    </tr>\n",
       "    <tr>\n",
       "      <th>33</th>\n",
       "      <td>진상면</td>\n",
       "      <td>총보급필요율</td>\n",
       "      <td>50.000000</td>\n",
       "    </tr>\n",
       "    <tr>\n",
       "      <th>34</th>\n",
       "      <td>진월면</td>\n",
       "      <td>총보급필요율</td>\n",
       "      <td>0.833333</td>\n",
       "    </tr>\n",
       "    <tr>\n",
       "      <th>35</th>\n",
       "      <td>태인동</td>\n",
       "      <td>총보급필요율</td>\n",
       "      <td>0.500000</td>\n",
       "    </tr>\n",
       "  </tbody>\n",
       "</table>\n",
       "</div>"
      ],
      "text/plain": [
       "   행정구역      구분           값\n",
       "24  골약동  총보급필요율   40.000000\n",
       "25  광양읍  총보급필요율    4.857143\n",
       "26  광영동  총보급필요율    0.923077\n",
       "27  금호동  총보급필요율   11.500000\n",
       "28  다압면  총보급필요율    1.000000\n",
       "29  봉강면  총보급필요율   40.000000\n",
       "30  옥곡면  총보급필요율    8.000000\n",
       "31  옥룡면  총보급필요율  110.000000\n",
       "32  중마동  총보급필요율    2.689655\n",
       "33  진상면  총보급필요율   50.000000\n",
       "34  진월면  총보급필요율    0.833333\n",
       "35  태인동  총보급필요율    0.500000"
      ]
     },
     "execution_count": 3,
     "metadata": {},
     "output_type": "execute_result"
    }
   ],
   "source": [
    "data = pd.read_csv(\"행정구역별_보급현황.csv\")\n",
    "data_use = data[data['구분'] == \"총보급필요율\"]\n",
    "data_use"
   ]
  },
  {
   "cell_type": "code",
   "execution_count": 4,
   "metadata": {
    "scrolled": false
   },
   "outputs": [
    {
     "data": {
      "text/html": [
       "<div>\n",
       "<style scoped>\n",
       "    .dataframe tbody tr th:only-of-type {\n",
       "        vertical-align: middle;\n",
       "    }\n",
       "\n",
       "    .dataframe tbody tr th {\n",
       "        vertical-align: top;\n",
       "    }\n",
       "\n",
       "    .dataframe thead th {\n",
       "        text-align: right;\n",
       "    }\n",
       "</style>\n",
       "<table border=\"1\" class=\"dataframe\">\n",
       "  <thead>\n",
       "    <tr style=\"text-align: right;\">\n",
       "      <th></th>\n",
       "      <th>ADM_DR_CD</th>\n",
       "      <th>ADM_DR_NM</th>\n",
       "      <th>geometry</th>\n",
       "    </tr>\n",
       "  </thead>\n",
       "  <tbody>\n",
       "    <tr>\n",
       "      <th>0</th>\n",
       "      <td>3606031</td>\n",
       "      <td>봉강면</td>\n",
       "      <td>MULTIPOLYGON (((127.58037 35.10902, 127.58052 ...</td>\n",
       "    </tr>\n",
       "    <tr>\n",
       "      <th>1</th>\n",
       "      <td>3606032</td>\n",
       "      <td>옥룡면</td>\n",
       "      <td>MULTIPOLYGON (((127.59872 35.12006, 127.59919 ...</td>\n",
       "    </tr>\n",
       "    <tr>\n",
       "      <th>2</th>\n",
       "      <td>3606033</td>\n",
       "      <td>옥곡면</td>\n",
       "      <td>MULTIPOLYGON (((127.64878 35.03547, 127.64902 ...</td>\n",
       "    </tr>\n",
       "    <tr>\n",
       "      <th>3</th>\n",
       "      <td>3606034</td>\n",
       "      <td>진상면</td>\n",
       "      <td>MULTIPOLYGON (((127.65639 35.11680, 127.65698 ...</td>\n",
       "    </tr>\n",
       "    <tr>\n",
       "      <th>4</th>\n",
       "      <td>3606035</td>\n",
       "      <td>진월면</td>\n",
       "      <td>MULTIPOLYGON (((127.75715 35.05502, 127.75716 ...</td>\n",
       "    </tr>\n",
       "    <tr>\n",
       "      <th>5</th>\n",
       "      <td>3606036</td>\n",
       "      <td>다압면</td>\n",
       "      <td>MULTIPOLYGON (((127.64117 35.16850, 127.64140 ...</td>\n",
       "    </tr>\n",
       "    <tr>\n",
       "      <th>6</th>\n",
       "      <td>3606051</td>\n",
       "      <td>골약동</td>\n",
       "      <td>MULTIPOLYGON (((127.68056 34.92848, 127.68105 ...</td>\n",
       "    </tr>\n",
       "    <tr>\n",
       "      <th>7</th>\n",
       "      <td>3606053</td>\n",
       "      <td>중마동</td>\n",
       "      <td>MULTIPOLYGON (((127.70376 34.96198, 127.70542 ...</td>\n",
       "    </tr>\n",
       "    <tr>\n",
       "      <th>8</th>\n",
       "      <td>3606054</td>\n",
       "      <td>광영동</td>\n",
       "      <td>MULTIPOLYGON (((127.71676 34.96939, 127.71691 ...</td>\n",
       "    </tr>\n",
       "    <tr>\n",
       "      <th>9</th>\n",
       "      <td>3606055</td>\n",
       "      <td>태인동</td>\n",
       "      <td>MULTIPOLYGON (((127.76162 34.95988, 127.76163 ...</td>\n",
       "    </tr>\n",
       "    <tr>\n",
       "      <th>10</th>\n",
       "      <td>3606056</td>\n",
       "      <td>금호동</td>\n",
       "      <td>MULTIPOLYGON (((127.73203 34.95128, 127.73243 ...</td>\n",
       "    </tr>\n",
       "    <tr>\n",
       "      <th>11</th>\n",
       "      <td>3606011</td>\n",
       "      <td>광양읍</td>\n",
       "      <td>MULTIPOLYGON (((127.59070 34.91870, 127.59150 ...</td>\n",
       "    </tr>\n",
       "  </tbody>\n",
       "</table>\n",
       "</div>"
      ],
      "text/plain": [
       "   ADM_DR_CD ADM_DR_NM                                           geometry\n",
       "0    3606031       봉강면  MULTIPOLYGON (((127.58037 35.10902, 127.58052 ...\n",
       "1    3606032       옥룡면  MULTIPOLYGON (((127.59872 35.12006, 127.59919 ...\n",
       "2    3606033       옥곡면  MULTIPOLYGON (((127.64878 35.03547, 127.64902 ...\n",
       "3    3606034       진상면  MULTIPOLYGON (((127.65639 35.11680, 127.65698 ...\n",
       "4    3606035       진월면  MULTIPOLYGON (((127.75715 35.05502, 127.75716 ...\n",
       "5    3606036       다압면  MULTIPOLYGON (((127.64117 35.16850, 127.64140 ...\n",
       "6    3606051       골약동  MULTIPOLYGON (((127.68056 34.92848, 127.68105 ...\n",
       "7    3606053       중마동  MULTIPOLYGON (((127.70376 34.96198, 127.70542 ...\n",
       "8    3606054       광영동  MULTIPOLYGON (((127.71676 34.96939, 127.71691 ...\n",
       "9    3606055       태인동  MULTIPOLYGON (((127.76162 34.95988, 127.76163 ...\n",
       "10   3606056       금호동  MULTIPOLYGON (((127.73203 34.95128, 127.73243 ...\n",
       "11   3606011       광양읍  MULTIPOLYGON (((127.59070 34.91870, 127.59150 ..."
      ]
     },
     "execution_count": 4,
     "metadata": {},
     "output_type": "execute_result"
    }
   ],
   "source": [
    "gwangyang = gpd.read_file(\"20.광양시_행정경계(읍면동).geojson\")\n",
    "gwangyang"
   ]
  },
  {
   "cell_type": "code",
   "execution_count": 5,
   "metadata": {},
   "outputs": [],
   "source": [
    "GwangYang = folium.Map(location=[34.9406968,127.6958882], zoom_start=11)"
   ]
  },
  {
   "cell_type": "code",
   "execution_count": 6,
   "metadata": {},
   "outputs": [],
   "source": [
    "choropleth = folium.Choropleth(\n",
    "    geo_data=gwangyang,\n",
    "    data=data_use,\n",
    "    columns=['행정구역', '값'],\n",
    "    key_on='feature.properties.ADM_DR_NM',\n",
    "    fill_color='YlOrRd', \n",
    "    fill_opacity=0.7, \n",
    "    line_opacity=3,\n",
    "    legend_name='지역별 보급률',\n",
    "    highlight=True,\n",
    "    smooth_factor=0).add_to(GwangYang)"
   ]
  },
  {
   "cell_type": "code",
   "execution_count": 7,
   "metadata": {},
   "outputs": [],
   "source": [
    "GwangYang.save('./1-1-보급율비교.html')"
   ]
  },
  {
   "cell_type": "code",
   "execution_count": 8,
   "metadata": {},
   "outputs": [],
   "source": [
    "GwangYang = folium.Map(location=[34.9406968,127.6958882], zoom_start=11)"
   ]
  },
  {
   "cell_type": "code",
   "execution_count": 9,
   "metadata": {},
   "outputs": [],
   "source": [
    "data_use_2 = data_use"
   ]
  },
  {
   "cell_type": "code",
   "execution_count": 10,
   "metadata": {
    "scrolled": true
   },
   "outputs": [
    {
     "name": "stderr",
     "output_type": "stream",
     "text": [
      "/opt/app-root/lib/python3.6/site-packages/ipykernel_launcher.py:1: SettingWithCopyWarning:\n",
      "\n",
      "\n",
      "A value is trying to be set on a copy of a slice from a DataFrame\n",
      "\n",
      "See the caveats in the documentation: https://pandas.pydata.org/pandas-docs/stable/user_guide/indexing.html#returning-a-view-versus-a-copy\n",
      "\n",
      "/opt/app-root/lib/python3.6/site-packages/pandas/core/series.py:1020: SettingWithCopyWarning:\n",
      "\n",
      "\n",
      "A value is trying to be set on a copy of a slice from a DataFrame\n",
      "\n",
      "See the caveats in the documentation: https://pandas.pydata.org/pandas-docs/stable/user_guide/indexing.html#returning-a-view-versus-a-copy\n",
      "\n"
     ]
    }
   ],
   "source": [
    "data_use_2['값'][(data_use_2['행정구역']==\"골약동\")|(data_use_2['행정구역']==\"옥룡면\")|(data_use_2['행정구역']==\"진상면\")|(data_use_2['행정구역']==\"봉강면\")] = 0"
   ]
  },
  {
   "cell_type": "code",
   "execution_count": 11,
   "metadata": {},
   "outputs": [],
   "source": [
    "choropleth = folium.Choropleth(\n",
    "    geo_data=gwangyang,\n",
    "    data=data_use_2,\n",
    "    columns=['행정구역', '값'],\n",
    "    key_on='feature.properties.ADM_DR_NM',\n",
    "    fill_color='YlOrRd', \n",
    "    fill_opacity=0.7, \n",
    "    line_opacity=3,\n",
    "    legend_name='지역별 보급률',\n",
    "    smooth_factor=0).add_to(GwangYang)"
   ]
  },
  {
   "cell_type": "code",
   "execution_count": 12,
   "metadata": {},
   "outputs": [],
   "source": [
    "GwangYang.save('./1-1-보급율비교_충전소0개제외.html')"
   ]
  },
  {
   "cell_type": "code",
   "execution_count": 13,
   "metadata": {},
   "outputs": [],
   "source": [
    "data_use_2.to_csv('보급률_0대제외.csv',sep=',',na_rep=\"NaN\")"
   ]
  }
 ],
 "metadata": {
  "kernelspec": {
   "display_name": "Python 3",
   "language": "python",
   "name": "python3"
  },
  "language_info": {
   "codemirror_mode": {
    "name": "ipython",
    "version": 3
   },
   "file_extension": ".py",
   "mimetype": "text/x-python",
   "name": "python",
   "nbconvert_exporter": "python",
   "pygments_lexer": "ipython3",
   "version": "3.6.9"
  }
 },
 "nbformat": 4,
 "nbformat_minor": 2
}
