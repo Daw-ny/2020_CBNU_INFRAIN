{
 "cells": [
  {
   "cell_type": "code",
   "execution_count": 1,
   "metadata": {},
   "outputs": [],
   "source": [
    "import folium\n",
    "import json\n",
    "import geopandas as gpd\n",
    "import folium.plugins"
   ]
  },
  {
   "cell_type": "code",
   "execution_count": 2,
   "metadata": {},
   "outputs": [],
   "source": [
    "import numpy as np\n",
    "import pandas as pd"
   ]
  },
  {
   "cell_type": "code",
   "execution_count": 3,
   "metadata": {},
   "outputs": [],
   "source": [
    "GwangYang = folium.Map(location=[34.9406968,127.6958882], zoom_start=11)"
   ]
  },
  {
   "cell_type": "code",
   "execution_count": 4,
   "metadata": {},
   "outputs": [],
   "source": [
    "test1 = gpd.read_file(\"10.광양시_상세도로망_LV6_11번에_없는것_제외.geojson\")\n",
    "aka = pd.read_csv('도로.csv')"
   ]
  },
  {
   "cell_type": "code",
   "execution_count": 5,
   "metadata": {},
   "outputs": [],
   "source": [
    "test1['ncar'] = \"unknown\""
   ]
  },
  {
   "cell_type": "code",
   "execution_count": 6,
   "metadata": {},
   "outputs": [
    {
     "name": "stderr",
     "output_type": "stream",
     "text": [
      "/opt/app-root/lib/python3.6/site-packages/ipykernel_launcher.py:7: SettingWithCopyWarning: \n",
      "A value is trying to be set on a copy of a slice from a DataFrame\n",
      "\n",
      "See the caveats in the documentation: https://pandas.pydata.org/pandas-docs/stable/user_guide/indexing.html#returning-a-view-versus-a-copy\n",
      "  import sys\n",
      "/opt/app-root/lib/python3.6/site-packages/ipykernel_launcher.py:3: SettingWithCopyWarning: \n",
      "A value is trying to be set on a copy of a slice from a DataFrame\n",
      "\n",
      "See the caveats in the documentation: https://pandas.pydata.org/pandas-docs/stable/user_guide/indexing.html#returning-a-view-versus-a-copy\n",
      "  This is separate from the ipykernel package so we can avoid doing imports until\n",
      "/opt/app-root/lib/python3.6/site-packages/ipykernel_launcher.py:5: SettingWithCopyWarning: \n",
      "A value is trying to be set on a copy of a slice from a DataFrame\n",
      "\n",
      "See the caveats in the documentation: https://pandas.pydata.org/pandas-docs/stable/user_guide/indexing.html#returning-a-view-versus-a-copy\n",
      "  \"\"\"\n"
     ]
    }
   ],
   "source": [
    "for i in aka.index:\n",
    "    if aka['전체'][i]<3432.3:\n",
    "        test1['ncar'][i]=\"green\"\n",
    "    elif aka['전체'][i]>=3432.3 and aka['전체'][i]<9973.15:\n",
    "        test1['ncar'][i]=\"yellow\"\n",
    "    elif aka['전체'][i]>=9973.15 and aka['전체'][i]<24379.4:\n",
    "        test1['ncar'][i]=\"red\""
   ]
  },
  {
   "cell_type": "code",
   "execution_count": 7,
   "metadata": {},
   "outputs": [],
   "source": [
    "data_green = test1[test1['ncar']==\"green\"]\n",
    "data_yellow = test1[test1['ncar']==\"yellow\"]\n",
    "data_red = test1[test1['ncar']==\"red\"]"
   ]
  },
  {
   "cell_type": "code",
   "execution_count": 8,
   "metadata": {},
   "outputs": [
    {
     "data": {
      "text/plain": [
       "<folium.features.GeoJson at 0x7eff284420b8>"
      ]
     },
     "execution_count": 8,
     "metadata": {},
     "output_type": "execute_result"
    }
   ],
   "source": [
    "folium.GeoJson(data_green,\n",
    "               name='data_green',\n",
    "               style_function=lambda feature:{\n",
    "                   'color': 'green',     #border color for the color fills\n",
    "                   'weight': 5\n",
    "               }\n",
    "              ).add_to(GwangYang)"
   ]
  },
  {
   "cell_type": "code",
   "execution_count": 9,
   "metadata": {},
   "outputs": [
    {
     "data": {
      "text/plain": [
       "<folium.features.GeoJson at 0x7eff2809a2b0>"
      ]
     },
     "execution_count": 9,
     "metadata": {},
     "output_type": "execute_result"
    }
   ],
   "source": [
    "folium.GeoJson(data_yellow,\n",
    "               name='data_yellow',\n",
    "               style_function=lambda feature:{\n",
    "                   'color': 'orange',     #border color for the color fills\n",
    "                   'weight': 5\n",
    "               }\n",
    "              ).add_to(GwangYang)"
   ]
  },
  {
   "cell_type": "code",
   "execution_count": 10,
   "metadata": {},
   "outputs": [
    {
     "data": {
      "text/plain": [
       "<folium.features.GeoJson at 0x7eff27b44898>"
      ]
     },
     "execution_count": 10,
     "metadata": {},
     "output_type": "execute_result"
    }
   ],
   "source": [
    "folium.GeoJson(data_red,\n",
    "               name='data_red',\n",
    "               style_function=lambda feature:{\n",
    "                   'color': 'red',     #border color for the color fills\n",
    "                   'weight': 5\n",
    "               }\n",
    "              ).add_to(GwangYang)"
   ]
  },
  {
   "cell_type": "code",
   "execution_count": 11,
   "metadata": {},
   "outputs": [
    {
     "data": {
      "text/plain": [
       "<folium.features.GeoJson at 0x7eff279caf98>"
      ]
     },
     "execution_count": 11,
     "metadata": {},
     "output_type": "execute_result"
    }
   ],
   "source": [
    "rfile4 = open('20.광양시_행정경계(읍면동).geojson', 'r', encoding='utf-8').read()\n",
    "jsonData4 = json.loads(rfile4)\n",
    "folium.GeoJson(jsonData4, name='json_data').add_to(GwangYang)"
   ]
  },
  {
   "cell_type": "code",
   "execution_count": 12,
   "metadata": {},
   "outputs": [],
   "source": [
    "GwangYang.save('./2-1-도로상황.html')"
   ]
  }
 ],
 "metadata": {
  "kernelspec": {
   "display_name": "Python 3",
   "language": "python",
   "name": "python3"
  },
  "language_info": {
   "codemirror_mode": {
    "name": "ipython",
    "version": 3
   },
   "file_extension": ".py",
   "mimetype": "text/x-python",
   "name": "python",
   "nbconvert_exporter": "python",
   "pygments_lexer": "ipython3",
   "version": "3.6.9"
  }
 },
 "nbformat": 4,
 "nbformat_minor": 2
}
